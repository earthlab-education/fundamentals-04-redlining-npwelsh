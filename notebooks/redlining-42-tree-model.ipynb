{
 "cells": [
  {
   "cell_type": "markdown",
   "id": "0eb4dc23-022c-4b3c-97eb-8c13c90e196c",
   "metadata": {},
   "source": [
    "# STEP 7: Fit a model\n",
    "\n",
    "One way to determine if redlining is related to NDVI is to see if we can\n",
    "correctly predict the redlining grade from the mean NDVI value. With 4\n",
    "categories, we’d expect to be right only about 25% of the time if we\n",
    "guessed the redlining grade at random. Any accuracy greater than 25%\n",
    "indicates that there is a relationship between vegetation health and\n",
    "redlining.\n",
    "\n",
    "To start out, we’ll fit a Decision Tree Classifier to the data. A\n",
    "decision tree is good at splitting data up into squares by setting\n",
    "thresholds. That makes sense for us here, because we’re looking for\n",
    "thresholds in the mean NDVI that indicate a particular redlining grade.\n",
    "\n",
    "First, import variables from previous notebooks:"
   ]
  },
  {
   "cell_type": "code",
   "execution_count": 6,
   "id": "bfd58b22",
   "metadata": {},
   "outputs": [],
   "source": [
    "store -r denver_ndvi_gdf"
   ]
  },
  {
   "cell_type": "markdown",
   "id": "c5a6e603-b9b9-4bac-9626-9b402f240124",
   "metadata": {},
   "source": [
    "<link rel=\"stylesheet\" type=\"text/css\" href=\"./assets/styles.css\"><div class=\"callout callout-style-default callout-titled callout-task\"><div class=\"callout-header\"><div class=\"callout-icon-container\"><i class=\"callout-icon\"></i></div><div class=\"callout-title-container flex-fill\">Try It: Import packages</div></div><div class=\"callout-body-container callout-body\"><p>The cell below imports some functions and classes from the\n",
    "<code>scikit-learn</code> package to help you fit and evaluate a\n",
    "decision tree model on your data. You may need some additional packages\n",
    "later one. Make sure to import them here.</p></div></div>"
   ]
  },
  {
   "cell_type": "code",
   "execution_count": 10,
   "id": "8128d1af",
   "metadata": {
    "highlight": true
   },
   "outputs": [],
   "source": [
    "from sklearn.tree import DecisionTreeClassifier, plot_tree #Decisiion tree set thresholds in order to classify \n",
    "from sklearn.model_selection import train_test_split, cross_val_score #to make sure we don't overfit model, ie fitting every single data point \n",
    "import matplotlib.pyplot as plt"
   ]
  },
  {
   "cell_type": "markdown",
   "id": "878dcf08-b82b-4ede-9403-f588d37cf047",
   "metadata": {},
   "source": [
    "As with all models, it is possible to **overfit** our Decision Tree\n",
    "Classifier by splitting the data into too many disconnected rectangles.\n",
    "We could theoretically get 100% accuracy this way, but drawing a\n",
    "rectangle for each individual data point. There are many ways to try to\n",
    "avoid overfitting. In this case, we can limit the **depth** of the\n",
    "decision tree to 2. This means we’ll be drawing 4 rectangles, the same\n",
    "as the number of categories we have.\n",
    "\n",
    "Alternative methods of limiting overfitting include:\n",
    "\n",
    "-   Splitting the data into test and train groups – the overfitted model\n",
    "    is unlikely to fit data it hasn’t seen. In this case, we have\n",
    "    relatively little data compared to the number of categories, and so\n",
    "    it is hard to evaluate a test/train split.\n",
    "-   Pruning the decision tree to maximize accuracy while minimizing\n",
    "    complexity. `scikit-learn` will do this for you automatically. You\n",
    "    can also fit the model at a variety of depths, and look for\n",
    "    diminishing accuracy returns.\n",
    "\n",
    "<link rel=\"stylesheet\" type=\"text/css\" href=\"./assets/styles.css\"><div class=\"callout callout-style-default callout-titled callout-task\"><div class=\"callout-header\"><div class=\"callout-icon-container\"><i class=\"callout-icon\"></i></div><div class=\"callout-title-container flex-fill\">Try It: Fit a tree model</div></div><div class=\"callout-body-container callout-body\"><p>Replace <code>predictor_variables</code> and\n",
    "<code>observed_values</code> with the values you want to use in your\n",
    "model.</p></div></div>"
   ]
  },
  {
   "cell_type": "code",
   "execution_count": null,
   "id": "10c162b6",
   "metadata": {
    "highlight": true
   },
   "outputs": [
    {
     "data": {
      "image/png": "[encoded data removed]",
      "text/plain": [
       "<Figure size 640x480 with 1 Axes>"
      ]
     },
     "metadata": {},
     "output_type": "display_data"
    }
   ],
   "source": [
    "# Convert categories to numbers\n",
    "denver_ndvi_gdf['grade_codes'] = denver_ndvi_gdf.grade.cat.codes\n",
    "\n",
    "# Fit model\n",
    "tree_classifier = DecisionTreeClassifier(max_depth=2).fit(     #max depth helps limit the tree model to only a few \n",
    "    denver_ndvi_gdf[['mean']], #double brackets for data frame\n",
    "     denver_ndvi_gdf[['grade']]\n",
    ")\n",
    "\n",
    "# Visualize tree\n",
    "plot_tree(tree_classifier)\n",
    "plt.show()"
   ]
  },
  {
   "cell_type": "markdown",
   "id": "b29427a3-8a7f-4634-ba02-cf58fe3021ab",
   "metadata": {},
   "source": [
    "<link rel=\"stylesheet\" type=\"text/css\" href=\"./assets/styles.css\"><div class=\"callout callout-style-default callout-titled callout-task\"><div class=\"callout-header\"><div class=\"callout-icon-container\"><i class=\"callout-icon\"></i></div><div class=\"callout-title-container flex-fill\">Try It: Plot model results</div></div><div class=\"callout-body-container callout-body\"><p>Create a plot of the results by:</p>\n",
    "<ol type=\"1\">\n",
    "<li>Predict grades for each region using the <code>.predict()</code>\n",
    "method of your <code>DecisionTreeClassifier</code>.</li>\n",
    "<li>Subtract the actual grades from the predicted grades</li>\n",
    "<li>Plot the calculated prediction errors as a chloropleth.</li>\n",
    "</ol></div></div>\n",
    "\n",
    "One method of evaluating your model’s accuracy is by cross-validation.\n",
    "This involves selecting some of your data at random, fitting the model,\n",
    "and then testing the model on a different group. Cross-validation gives\n",
    "you a range of potential accuracies using a subset of your data. It also\n",
    "has a couple of advantages, including:\n",
    "\n",
    "1.  It’s good at identifying overfitting, because it tests on a\n",
    "    different set of data than it trains on.\n",
    "2.  You can use cross-validation on any model, unlike statistics like\n",
    "    $p$-values and $R^2$ that you may have used in the past.\n",
    "\n",
    "A disadvantage of cross-validation is that with smaller datasets like\n",
    "this one, it is easy to end up with splits that are too small to be\n",
    "meaningful, or don’t have all the categories.\n",
    "\n",
    "Remember – anything above 25% is better than random!\n",
    "\n",
    "<link rel=\"stylesheet\" type=\"text/css\" href=\"./assets/styles.css\"><div class=\"callout callout-style-default callout-titled callout-task\"><div class=\"callout-header\"><div class=\"callout-icon-container\"><i class=\"callout-icon\"></i></div><div class=\"callout-title-container flex-fill\">Try It: Evaluate the model</div></div><div class=\"callout-body-container callout-body\"><p>Use cross-validation with the <code>cross_val_score</code> to\n",
    "evaluate your model. Start out with the <code>'balanced_accuracy'</code>\n",
    "scoring method, and 4 cross-validation groups.</p></div></div>"
   ]
  },
  {
   "cell_type": "code",
   "execution_count": 8,
   "id": "03274512",
   "metadata": {
    "highlight": true
   },
   "outputs": [],
   "source": [
    "# Evaluate the model with cross-validation"
   ]
  },
  {
   "cell_type": "markdown",
   "id": "322e1b7b-7205-4776-aae3-dcc3b068977f",
   "metadata": {},
   "source": [
    "<link rel=\"stylesheet\" type=\"text/css\" href=\"./assets/styles.css\"><div class=\"callout callout-style-default callout-titled callout-extra\"><div class=\"callout-header\"><div class=\"callout-icon-container\"><i class=\"callout-icon\"></i></div><div class=\"callout-title-container flex-fill\">Looking for an Extra Challenge?: Fit and evaluate an alternative model</div></div><div class=\"callout-body-container callout-body\"><p>Try out some other models and/or hyperparameters (e.g. changing the\n",
    "max_depth). What do you notice?</p></div></div>"
   ]
  },
  {
   "cell_type": "code",
   "execution_count": 10,
   "id": "b2387dd1",
   "metadata": {
    "highlight": true
   },
   "outputs": [],
   "source": [
    "# Try another model"
   ]
  },
  {
   "cell_type": "markdown",
   "id": "89b80a8f-a63f-4ed8-9a20-51bb771a6bab",
   "metadata": {},
   "source": [
    "<link rel=\"stylesheet\" type=\"text/css\" href=\"./assets/styles.css\"><div class=\"callout callout-style-default callout-titled callout-respond\"><div class=\"callout-header\"><div class=\"callout-icon-container\"><i class=\"callout-icon\"></i></div><div class=\"callout-title-container flex-fill\">Reflect and Respond</div></div><div class=\"callout-body-container callout-body\"><p>Practice writing about your model. In a few sentences, explain your\n",
    "methods, including some advantages and disadvantages of the choice.\n",
    "Then, report back on your results. Does your model indicate that\n",
    "vegetation health in a neighborhood is related to its redlining\n",
    "grade?</p></div></div>"
   ]
  },
  {
   "cell_type": "markdown",
   "id": "5286e179-8b3f-488d-889a-70829ae9cbaf",
   "metadata": {},
   "source": [
    "# YOUR MODEL DESCRIPTION AND EVALUATION HERE"
   ]
  }
 ],
 "metadata": {
  "kernelspec": {
   "display_name": "earth-analytics-python",
   "language": "python",
   "name": "python3"
  },
  "language_info": {
   "codemirror_mode": {
    "name": "ipython",
    "version": 3
   },
   "file_extension": ".py",
   "mimetype": "text/x-python",
   "name": "python",
   "nbconvert_exporter": "python",
   "pygments_lexer": "ipython3",
   "version": "3.11.10"
  }
 },
 "nbformat": 4,
 "nbformat_minor": 5
}
